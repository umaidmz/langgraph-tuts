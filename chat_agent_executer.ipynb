{
 "cells": [
  {
   "cell_type": "code",
   "execution_count": 1,
   "id": "c718d65d-c15d-4e1f-ad6f-1c020a5bcc67",
   "metadata": {},
   "outputs": [],
   "source": [
    "from dotenv import load_dotenv\n",
    "\n",
    "_ = load_dotenv()"
   ]
  },
  {
   "cell_type": "code",
   "execution_count": 2,
   "id": "746242e5-45f9-4c73-92a1-0a225e0e421d",
   "metadata": {},
   "outputs": [
    {
     "data": {
      "text/plain": [
       "'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'"
      ]
     },
     "execution_count": 2,
     "metadata": {},
     "output_type": "execute_result"
    }
   ],
   "source": [
    "import os\n",
    "os.getenv(\"LANGCHAIN_API_KEY\")"
   ]
  },
  {
   "cell_type": "code",
   "execution_count": 3,
   "id": "06feaaaa-c462-43df-bcb3-206de444ffa8",
   "metadata": {},
   "outputs": [],
   "source": [
    "os.environ['LANGSMITH_TRACING_V2']=\"true\"\n",
    "os.environ['LANGCHAIN_API_KEY']=\"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\"\n"
   ]
  },
  {
   "cell_type": "code",
   "execution_count": 4,
   "id": "0131b0a0-0ef5-4be7-a403-c7ca7f5464b0",
   "metadata": {},
   "outputs": [],
   "source": [
    "from langchain import hub\n",
    "from langchain.agents import create_openai_functions_agent\n",
    "from langchain_openai.chat_models import ChatOpenAI\n",
    "from langchain_community.tools.tavily_search import TavilySearchResults"
   ]
  },
  {
   "cell_type": "code",
   "execution_count": 12,
   "id": "1a82c7b6-d6bf-4fdf-ae81-3f5d4d15ad67",
   "metadata": {},
   "outputs": [],
   "source": [
    "\n",
    "tools = [TavilySearchResults(max_results=1)]\n"
   ]
  },
  {
   "cell_type": "code",
   "execution_count": 14,
   "id": "f7f3fdf7-f99b-4a57-bb67-6714079f2d0f",
   "metadata": {},
   "outputs": [],
   "source": [
    "\n",
    "from langgraph.prebuilt import ToolNode\n",
    "tool_node = ToolNode(tools)\n"
   ]
  },
  {
   "cell_type": "code",
   "execution_count": 17,
   "id": "b42edf69-6abf-425d-937c-39768b0bf69a",
   "metadata": {},
   "outputs": [],
   "source": [
    "model = ChatOpenAI(temperature=0, streaming=True)"
   ]
  },
  {
   "cell_type": "code",
   "execution_count": 18,
   "id": "2dcbf2a6-5710-41f0-b64a-f03c1b9ea524",
   "metadata": {},
   "outputs": [],
   "source": [
    "from langchain_core.utils.function_calling import convert_to_openai_function\n",
    "functions = [convert_to_openai_function(t) for t in tools]\n",
    "model = model.bind_tools(functions)"
   ]
  },
  {
   "cell_type": "code",
   "execution_count": 31,
   "id": "7e159b6f-78d9-4150-8655-f6bb29543e63",
   "metadata": {},
   "outputs": [],
   "source": [
    "from typing import TypedDict, Annotated, Sequence\n",
    "import operator\n",
    "from langchain_core.messages import BaseMessage\n",
    "\n",
    "class AgentState(TypedDict):\n",
    "    messages: Annotated[Sequence[BaseMessage], operator.add]"
   ]
  },
  {
   "cell_type": "code",
   "execution_count": 32,
   "id": "5b8dd9be-63e6-4ecc-b455-61e997ab9ad7",
   "metadata": {},
   "outputs": [],
   "source": [
    "from langgraph.prebuilt import ToolInvocation\n",
    "import json\n",
    "from langchain_core.messages import FunctionMessage"
   ]
  },
  {
   "cell_type": "code",
   "execution_count": 46,
   "id": "d2e2823d-1af5-4b95-9197-ee764846403a",
   "metadata": {},
   "outputs": [],
   "source": [
    "def should_continue(state):\n",
    "    messages = state[\"messages\"]\n",
    "    last_message = messages[-1]\n",
    "    if last_message.tool_calls:\n",
    "        return \"continue\"\n",
    "    return \"end\"\n",
    "\n",
    "def call_model(state):\n",
    "    messages = state['messages']\n",
    "    response = model.invoke(messages)\n",
    "    return {\"messages\": [response]}\n",
    "\n",
    "    \n"
   ]
  },
  {
   "cell_type": "code",
   "execution_count": 47,
   "id": "3062a897-6f22-4547-b5f0-8cdc912b8fc6",
   "metadata": {},
   "outputs": [],
   "source": [
    "from langgraph.graph import StateGraph, END\n",
    "workflow = StateGraph(AgentState)\n",
    "\n",
    "workflow.add_node(\"agent\", call_model)\n",
    "workflow.add_node(\"tools\", tool_node)\n",
    "\n",
    "workflow.set_entry_point(\"agent\")\n",
    "\n",
    "workflow.add_conditional_edges(\n",
    "    \"agent\",\n",
    "    should_continue,\n",
    "    {\n",
    "        \"continue\":\"tools\",\n",
    "        \"end\": END\n",
    "    }\n",
    ")\n",
    "\n",
    "workflow.add_edge(\"tools\", \"agent\")\n",
    "\n",
    "app = workflow.compile()"
   ]
  },
  {
   "cell_type": "code",
   "execution_count": 48,
   "id": "cd72b229-c1b4-4f9c-b56f-8e706ab3d57c",
   "metadata": {},
   "outputs": [
    {
     "data": {
      "image/png": "[encoded data removed]",
      "text/plain": [
       "<langgraph.graph.state.CompiledStateGraph object at 0x11c5bcb50>"
      ]
     },
     "execution_count": 48,
     "metadata": {},
     "output_type": "execute_result"
    }
   ],
   "source": [
    "app"
   ]
  },
  {
   "cell_type": "code",
   "execution_count": 49,
   "id": "1a054c88-5148-4e7e-9ea5-c032170f21b5",
   "metadata": {},
   "outputs": [
    {
     "data": {
      "text/plain": [
       "{'messages': [HumanMessage(content='what is weather in kitchener, on?', additional_kwargs={}, response_metadata={}),\n",
       "  AIMessage(content='', additional_kwargs={'tool_calls': [{'index': 0, 'id': 'call_ilnOhInOIVU3Nj2v6rmrVARs', 'function': {'arguments': '{\"query\":\"weather in Kitchener, ON\"}', 'name': 'tavily_search_results_json'}, 'type': 'function'}]}, response_metadata={'finish_reason': 'tool_calls', 'model_name': 'gpt-3.5-turbo-0125'}, id='run-351966f7-d76d-4b08-9a62-d6902aec60ae-0', tool_calls=[{'name': 'tavily_search_results_json', 'args': {'query': 'weather in Kitchener, ON'}, 'id': 'call_ilnOhInOIVU3Nj2v6rmrVARs', 'type': 'tool_call'}]),\n",
       "  ToolMessage(content='[{\"url\": \"https://www.weatherapi.com/\", \"content\": \"{\\'location\\': {\\'name\\': \\'Kitchener\\', \\'region\\': \\'Ontario\\', \\'country\\': \\'Canada\\', \\'lat\\': 43.45, \\'lon\\': -80.5, \\'tz_id\\': \\'America/Toronto\\', \\'localtime_epoch\\': 1739217696, \\'localtime\\': \\'2025-02-10 15:01\\'}, \\'current\\': {\\'last_updated_epoch\\': 1739217600, \\'last_updated\\': \\'2025-02-10 15:00\\', \\'temp_c\\': -5.7, \\'temp_f\\': 21.7, \\'is_day\\': 1, \\'condition\\': {\\'text\\': \\'Overcast\\', \\'icon\\': \\'//cdn.weatherapi.com/weather/64x64/day/122.png\\', \\'code\\': 1009}, \\'wind_mph\\': 15.7, \\'wind_kph\\': 25.2, \\'wind_degree\\': 260, \\'wind_dir\\': \\'W\\', \\'pressure_mb\\': 1027.0, \\'pressure_in\\': 30.33, \\'precip_mm\\': 0.0, \\'precip_in\\': 0.0, \\'humidity\\': 62, \\'cloud\\': 100, \\'feelslike_c\\': -13.3, \\'feelslike_f\\': 8.1, \\'windchill_c\\': -12.1, \\'windchill_f\\': 10.1, \\'heatindex_c\\': -5.4, \\'heatindex_f\\': 22.3, \\'dewpoint_c\\': -8.7, \\'dewpoint_f\\': 16.3, \\'vis_km\\': 14.0, \\'vis_miles\\': 8.0, \\'uv\\': 1.0, \\'gust_mph\\': 20.0, \\'gust_kph\\': 32.2}}\"}]', name='tavily_search_results_json', tool_call_id='call_ilnOhInOIVU3Nj2v6rmrVARs', artifact={'query': 'weather in Kitchener, ON', 'follow_up_questions': None, 'answer': None, 'images': [], 'results': [{'title': 'Weather in Kitchener, ON', 'url': 'https://www.weatherapi.com/', 'content': \"{'location': {'name': 'Kitchener', 'region': 'Ontario', 'country': 'Canada', 'lat': 43.45, 'lon': -80.5, 'tz_id': 'America/Toronto', 'localtime_epoch': 1739217696, 'localtime': '2025-02-10 15:01'}, 'current': {'last_updated_epoch': 1739217600, 'last_updated': '2025-02-10 15:00', 'temp_c': -5.7, 'temp_f': 21.7, 'is_day': 1, 'condition': {'text': 'Overcast', 'icon': '//cdn.weatherapi.com/weather/64x64/day/122.png', 'code': 1009}, 'wind_mph': 15.7, 'wind_kph': 25.2, 'wind_degree': 260, 'wind_dir': 'W', 'pressure_mb': 1027.0, 'pressure_in': 30.33, 'precip_mm': 0.0, 'precip_in': 0.0, 'humidity': 62, 'cloud': 100, 'feelslike_c': -13.3, 'feelslike_f': 8.1, 'windchill_c': -12.1, 'windchill_f': 10.1, 'heatindex_c': -5.4, 'heatindex_f': 22.3, 'dewpoint_c': -8.7, 'dewpoint_f': 16.3, 'vis_km': 14.0, 'vis_miles': 8.0, 'uv': 1.0, 'gust_mph': 20.0, 'gust_kph': 32.2}}\", 'score': 0.9757827, 'raw_content': None}], 'response_time': 2.76}),\n",
       "  AIMessage(content='The current weather in Kitchener, ON is as follows:\\n- Temperature: -5.7°C (21.7°F)\\n- Condition: Overcast\\n- Wind: 25.2 km/h from the west\\n- Pressure: 1027.0 mb\\n- Humidity: 62%\\n- Visibility: 14.0 km\\n- UV Index: 1.0\\n\\nFor more details, you can visit [Weather API](https://www.weatherapi.com/).', additional_kwargs={}, response_metadata={'finish_reason': 'stop', 'model_name': 'gpt-3.5-turbo-0125'}, id='run-5c735521-4ffb-40c8-8003-0438e6955105-0')]}"
      ]
     },
     "execution_count": 49,
     "metadata": {},
     "output_type": "execute_result"
    }
   ],
   "source": [
    "from langchain_core.messages import HumanMessage\n",
    "\n",
    "inputs = {\"messages\": [HumanMessage(content=\"what is weather in kitchener, on?\")]}\n",
    "app.invoke(inputs)"
   ]
  },
  {
   "cell_type": "code",
   "execution_count": null,
   "id": "de54b064-897a-4c7a-ab81-eb8cd16eae01",
   "metadata": {},
   "outputs": [],
   "source": []
  }
 ],
 "metadata": {
  "kernelspec": {
   "display_name": "cua",
   "language": "python",
   "name": "cua"
  },
  "language_info": {
   "codemirror_mode": {
    "name": "ipython",
    "version": 3
   },
   "file_extension": ".py",
   "mimetype": "text/x-python",
   "name": "python",
   "nbconvert_exporter": "python",
   "pygments_lexer": "ipython3",
   "version": "3.11.7"
  }
 },
 "nbformat": 4,
 "nbformat_minor": 5
}
