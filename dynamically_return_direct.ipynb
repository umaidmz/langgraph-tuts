{
 "cells": [
  {
   "cell_type": "code",
   "execution_count": 10,
   "id": "c718d65d-c15d-4e1f-ad6f-1c020a5bcc67",
   "metadata": {},
   "outputs": [],
   "source": [
    "from dotenv import load_dotenv\n",
    "\n",
    "_ = load_dotenv()"
   ]
  },
  {
   "cell_type": "code",
   "execution_count": 11,
   "id": "0131b0a0-0ef5-4be7-a403-c7ca7f5464b0",
   "metadata": {},
   "outputs": [],
   "source": [
    "from langchain import hub\n",
    "from langchain.agents import create_openai_functions_agent\n",
    "from langchain_openai.chat_models import ChatOpenAI\n",
    "from langchain_community.tools.tavily_search import TavilySearchResults\n",
    "from langgraph.prebuilt import ToolNode\n"
   ]
  },
  {
   "cell_type": "code",
   "execution_count": 12,
   "id": "5f45243c-b03a-4a36-b7b4-f5c9e8a32dd8",
   "metadata": {},
   "outputs": [],
   "source": [
    "from pydantic import BaseModel, Field\n",
    "\n",
    "class SearchType(BaseModel):\n",
    "    \"\"\"Look up things online and optionally returning directly\"\"\"\n",
    "    query: str = Field(description=\"query to look up online\")\n",
    "    return_direct: bool = Field(\n",
    "        description=\"Whether or not the result of this should be returned directly to the user without you seeing what it is\",\n",
    "        default=False\n",
    "    )\n",
    "\n",
    "class Response(BaseModel):\n",
    "    \"\"\"Final Response to the user\"\"\"\n",
    "    temperature: float = Field(description=\"the temperature\")\n",
    "    other_notes: str = Field(description=\"any other notes about the weather\")\n",
    "    "
   ]
  },
  {
   "cell_type": "code",
   "execution_count": null,
   "id": "751255c4-65e6-471d-99f5-0a2611f008c9",
   "metadata": {},
   "outputs": [],
   "source": []
  },
  {
   "cell_type": "code",
   "execution_count": 20,
   "id": "1a82c7b6-d6bf-4fdf-ae81-3f5d4d15ad67",
   "metadata": {},
   "outputs": [],
   "source": [
    "tools = [TavilySearchResults(max_results=1, args_schema=SearchType)]\n",
    "tool_node = ToolNode(tools)\n",
    "tools_by_name = {tool.name: tool for tool in tools}"
   ]
  },
  {
   "cell_type": "code",
   "execution_count": 21,
   "id": "b42edf69-6abf-425d-937c-39768b0bf69a",
   "metadata": {},
   "outputs": [],
   "source": [
    "model = ChatOpenAI( temperature=0, streaming=True)"
   ]
  },
  {
   "cell_type": "code",
   "execution_count": 22,
   "id": "2dcbf2a6-5710-41f0-b64a-f03c1b9ea524",
   "metadata": {},
   "outputs": [],
   "source": [
    "# from langchain_core.utils.function_calling import convert_to_openai_function\n",
    "# functions = [convert_to_openai_function(t) for t in tools]\n",
    "\n",
    "model = model.bind_tools(tools)"
   ]
  },
  {
   "cell_type": "code",
   "execution_count": 23,
   "id": "7e159b6f-78d9-4150-8655-f6bb29543e63",
   "metadata": {},
   "outputs": [],
   "source": [
    "from typing import TypedDict, Annotated, Sequence\n",
    "import operator\n",
    "from langchain_core.messages import BaseMessage, ToolMessage\n",
    "\n",
    "class AgentState(TypedDict):\n",
    "    messages: Annotated[Sequence[BaseMessage], operator.add]"
   ]
  },
  {
   "cell_type": "code",
   "execution_count": 24,
   "id": "5b8dd9be-63e6-4ecc-b455-61e997ab9ad7",
   "metadata": {},
   "outputs": [],
   "source": [
    "from langgraph.prebuilt import ToolInvocation\n",
    "import json\n",
    "from langchain_core.messages import FunctionMessage"
   ]
  },
  {
   "cell_type": "code",
   "execution_count": 28,
   "id": "d2e2823d-1af5-4b95-9197-ee764846403a",
   "metadata": {},
   "outputs": [],
   "source": [
    "from langgraph.types import Command\n",
    "\n",
    "def should_continue(state):\n",
    "    messages = state[\"messages\"]\n",
    "    last_message = messages[-1]\n",
    "    print(last_message)\n",
    "    if isinstance(last_message, Response):\n",
    "        return 'end'\n",
    "    elif last_message.tool_calls:\n",
    "        if 'return_direct' in last_message.tool_calls[0]['args']:\n",
    "            return \"final\"\n",
    "        return \"continue\"\n",
    "    return \"end\"\n",
    "\n",
    "def call_model(state):\n",
    "    messages = state['messages']\n",
    "    response = model.invoke(messages)\n",
    "    \n",
    "    return {\"messages\": [response]}\n",
    "\n",
    "def call_tool(state):\n",
    "    messages = state[\"messages\"]\n",
    "    del messages[-1].tool_calls[0]['args']['return_direct']\n",
    "    response = tool_node.invoke({\"messages\": messages})\n",
    "    return {\"messages\" : [response]}\n",
    "    \n",
    "\n",
    "def tool_node(state):\n",
    "    result = []\n",
    "    for tool_call in state[\"messages\"][-1].tool_calls:\n",
    "      \n",
    "        tool = tools_by_name[tool_call[\"name\"]]\n",
    "        if tool_call['name']==\"tavily_search_results_json\":\n",
    "            if 'return_direct' in tool_call['args']:\n",
    "                del tool_call['args']['return_direct']\n",
    "        observation = tool.invoke(tool_call[\"args\"])\n",
    "        result.append(ToolMessage(content=json.dumps(observation), tool_call_id=tool_call[\"id\"]))\n",
    "    return {\"messages\": result}\n",
    "\n",
    "\n",
    "\n",
    "\n",
    "    \n"
   ]
  },
  {
   "cell_type": "code",
   "execution_count": 29,
   "id": "3062a897-6f22-4547-b5f0-8cdc912b8fc6",
   "metadata": {},
   "outputs": [],
   "source": [
    "from langgraph.graph import StateGraph, END\n",
    "workflow = StateGraph(AgentState)\n",
    "\n",
    "workflow.add_node(\"llm\", call_model)\n",
    "workflow.add_node(\"tools\", tool_node)\n",
    "workflow.add_node(\"final\", tool_node)\n",
    "\n",
    "workflow.set_entry_point(\"llm\")\n",
    "\n",
    "workflow.add_conditional_edges(\n",
    "    \"llm\",\n",
    "    should_continue,\n",
    "    {\n",
    "        \"continue\":\"tools\",\n",
    "        \"final\": \"final\",\n",
    "        \"end\": END\n",
    "    }\n",
    ")\n",
    "\n",
    "workflow.add_edge(\"tools\", \"llm\")\n",
    "workflow.add_edge(\"final\", END)\n",
    "\n",
    "app = workflow.compile()"
   ]
  },
  {
   "cell_type": "code",
   "execution_count": 30,
   "id": "cd72b229-c1b4-4f9c-b56f-8e706ab3d57c",
   "metadata": {},
   "outputs": [
    {
     "data": {
      "image/png": "[encoded data removed]",
      "text/plain": [
       "<langgraph.graph.state.CompiledStateGraph object at 0x11b0bf110>"
      ]
     },
     "execution_count": 30,
     "metadata": {},
     "output_type": "execute_result"
    }
   ],
   "source": [
    "app"
   ]
  },
  {
   "cell_type": "code",
   "execution_count": 31,
   "id": "1a054c88-5148-4e7e-9ea5-c032170f21b5",
   "metadata": {},
   "outputs": [
    {
     "name": "stdout",
     "output_type": "stream",
     "text": [
      "content='' additional_kwargs={'tool_calls': [{'index': 0, 'id': 'call_yzvwHTwZmYXqeH9cvf7nKDWX', 'function': {'arguments': '{\"query\":\"weather in Toronto, ON\"}', 'name': 'tavily_search_results_json'}, 'type': 'function'}]} response_metadata={'finish_reason': 'tool_calls', 'model_name': 'gpt-3.5-turbo-0125'} id='run-5c04f283-a35a-4ff6-b8af-2c5a4577b5c7-0' tool_calls=[{'name': 'tavily_search_results_json', 'args': {'query': 'weather in Toronto, ON'}, 'id': 'call_yzvwHTwZmYXqeH9cvf7nKDWX', 'type': 'tool_call'}]\n",
      "Output from node 'llm' :\n",
      "-----------\n",
      "{'messages': [AIMessage(content='', additional_kwargs={'tool_calls': [{'index': 0, 'id': 'call_yzvwHTwZmYXqeH9cvf7nKDWX', 'function': {'arguments': '{\"query\":\"weather in Toronto, ON\"}', 'name': 'tavily_search_results_json'}, 'type': 'function'}]}, response_metadata={'finish_reason': 'tool_calls', 'model_name': 'gpt-3.5-turbo-0125'}, id='run-5c04f283-a35a-4ff6-b8af-2c5a4577b5c7-0', tool_calls=[{'name': 'tavily_search_results_json', 'args': {'query': 'weather in Toronto, ON'}, 'id': 'call_yzvwHTwZmYXqeH9cvf7nKDWX', 'type': 'tool_call'}])]}\n",
      "\n",
      "-------------\n",
      "\n",
      "Output from node 'tools' :\n",
      "-----------\n",
      "{'messages': [ToolMessage(content='[{\"url\": \"https://www.weatherapi.com/\", \"content\": \"{\\'location\\': {\\'name\\': \\'Toronto\\', \\'region\\': \\'Ontario\\', \\'country\\': \\'Canada\\', \\'lat\\': 43.6667, \\'lon\\': -79.4167, \\'tz_id\\': \\'America/Toronto\\', \\'localtime_epoch\\': 1739328520, \\'localtime\\': \\'2025-02-11 21:48\\'}, \\'current\\': {\\'last_updated_epoch\\': 1739328300, \\'last_updated\\': \\'2025-02-11 21:45\\', \\'temp_c\\': -6.0, \\'temp_f\\': 21.2, \\'is_day\\': 0, \\'condition\\': {\\'text\\': \\'Overcast\\', \\'icon\\': \\'//cdn.weatherapi.com/weather/64x64/night/122.png\\', \\'code\\': 1009}, \\'wind_mph\\': 8.3, \\'wind_kph\\': 13.3, \\'wind_degree\\': 13, \\'wind_dir\\': \\'NNE\\', \\'pressure_mb\\': 1025.0, \\'pressure_in\\': 30.28, \\'precip_mm\\': 0.0, \\'precip_in\\': 0.0, \\'humidity\\': 58, \\'cloud\\': 100, \\'feelslike_c\\': -11.4, \\'feelslike_f\\': 11.4, \\'windchill_c\\': -10.5, \\'windchill_f\\': 13.0, \\'heatindex_c\\': -5.2, \\'heatindex_f\\': 22.7, \\'dewpoint_c\\': -7.5, \\'dewpoint_f\\': 18.6, \\'vis_km\\': 14.0, \\'vis_miles\\': 8.0, \\'uv\\': 0.0, \\'gust_mph\\': 13.2, \\'gust_kph\\': 21.3}}\"}]', tool_call_id='call_yzvwHTwZmYXqeH9cvf7nKDWX')]}\n",
      "\n",
      "-------------\n",
      "\n",
      "content='The current weather in Toronto, ON is as follows:\\n- Temperature: -6.0°C (21.2°F)\\n- Condition: Overcast\\n- Wind: 13.3 km/h from NNE\\n- Pressure: 1025.0 mb\\n- Humidity: 58%\\n- Visibility: 14.0 km\\n\\nFor more details, you can visit [Weather API](https://www.weatherapi.com/).' additional_kwargs={} response_metadata={'finish_reason': 'stop', 'model_name': 'gpt-3.5-turbo-0125'} id='run-030de327-5fac-4d58-985a-8c68b9f681e4-0'\n",
      "Output from node 'llm' :\n",
      "-----------\n",
      "{'messages': [AIMessage(content='The current weather in Toronto, ON is as follows:\\n- Temperature: -6.0°C (21.2°F)\\n- Condition: Overcast\\n- Wind: 13.3 km/h from NNE\\n- Pressure: 1025.0 mb\\n- Humidity: 58%\\n- Visibility: 14.0 km\\n\\nFor more details, you can visit [Weather API](https://www.weatherapi.com/).', additional_kwargs={}, response_metadata={'finish_reason': 'stop', 'model_name': 'gpt-3.5-turbo-0125'}, id='run-030de327-5fac-4d58-985a-8c68b9f681e4-0')]}\n",
      "\n",
      "-------------\n",
      "\n"
     ]
    }
   ],
   "source": [
    "from langchain_core.messages import HumanMessage\n",
    "\n",
    "inputs = {\"messages\": [HumanMessage(content=\"search for what is weather in toronto, on?\")]}\n",
    "for chunk in app.stream(inputs):\n",
    "    for key, value in chunk.items():\n",
    "        print(\"Output from node '{}' :\".format(key))\n",
    "        print(\"-----------\")\n",
    "        print(value)\n",
    "    print(\"\\n-------------\\n\")"
   ]
  },
  {
   "cell_type": "code",
   "execution_count": null,
   "id": "de54b064-897a-4c7a-ab81-eb8cd16eae01",
   "metadata": {},
   "outputs": [],
   "source": []
  },
  {
   "cell_type": "code",
   "execution_count": null,
   "id": "b4ca9fe2-0548-4649-a5c9-acc32c0141c0",
   "metadata": {},
   "outputs": [],
   "source": []
  }
 ],
 "metadata": {
  "kernelspec": {
   "display_name": "Python 3 (ipykernel)",
   "language": "python",
   "name": "python3"
  },
  "language_info": {
   "codemirror_mode": {
    "name": "ipython",
    "version": 3
   },
   "file_extension": ".py",
   "mimetype": "text/x-python",
   "name": "python",
   "nbconvert_exporter": "python",
   "pygments_lexer": "ipython3",
   "version": "3.11.7"
  }
 },
 "nbformat": 4,
 "nbformat_minor": 5
}
