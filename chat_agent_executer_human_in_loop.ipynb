{
 "cells": [
  {
   "cell_type": "code",
   "execution_count": 7,
   "id": "c718d65d-c15d-4e1f-ad6f-1c020a5bcc67",
   "metadata": {},
   "outputs": [],
   "source": [
    "! pip install --quiet -U langgraph langchain_openai"
   ]
  },
  {
   "cell_type": "code",
   "execution_count": 56,
   "id": "884e87b8-fd03-4178-84de-f8dbb4613797",
   "metadata": {},
   "outputs": [],
   "source": [
    "from dotenv import load_dotenv\n",
    "import os\n",
    "\n",
    "_ = load_dotenv()\n",
    "\n",
    "##os.environ['OPENAI_API_KEY']= XXXX\n",
    "##os.environ['TAVILY_API_KEY']= XXXX\n",
    "##os.environ['LANGCHAIN_API_KEY']= XXXX\n",
    "##os.environ['LANGSMITH_TRACING_V2']= XXXX"
   ]
  },
  {
   "cell_type": "code",
   "execution_count": 57,
   "id": "d9fb1072-dd0c-45d0-85c4-e80a6200c60f",
   "metadata": {},
   "outputs": [],
   "source": [
    "from langgraph.graph import StateGraph, END"
   ]
  },
  {
   "cell_type": "code",
   "execution_count": 58,
   "id": "ce499954-ee7b-4285-bba4-6b090842a1de",
   "metadata": {},
   "outputs": [],
   "source": [
    "from langgraph.prebuilt import ToolNode\n",
    "from langchain_community.tools.tavily_search import TavilySearchResults\n",
    "\n",
    "tools = [TavilySearchResults(max_results=1)]\n",
    "tool_node = ToolNode(tools)"
   ]
  },
  {
   "cell_type": "code",
   "execution_count": 82,
   "id": "24b73c72-baa8-4e42-b18a-337a93a54791",
   "metadata": {},
   "outputs": [],
   "source": [
    "from langchain_core.utils.function_calling import convert_to_openai_function\n",
    "from langchain_openai.chat_models import ChatOpenAI\n",
    "\n",
    "model = ChatOpenAI(temperature=0, streaming=True)\n",
    "functions = [convert_to_openai_function(t) for t in tools]\n",
    "model = model.bind_tools(tools)\n"
   ]
  },
  {
   "cell_type": "markdown",
   "id": "c1743277-1c16-47b7-9c15-607b354850bd",
   "metadata": {},
   "source": [
    "## Human-in-the-loop "
   ]
  },
  {
   "cell_type": "markdown",
   "id": "972650d6-dbe8-4df1-b3be-781232724966",
   "metadata": {},
   "source": [
    "A human-in-the-loop workflow is used to involve human judgment into automated processes at specific moments that enable decision-making, validation, or corrections. This approach is  useful in applications utilizing large language models (LLMs), which may occasionally make mistakes or involve mission-critical decisions. In critical areas such as compliance, decision-making, or content creation, human oversight ensures accuracy by allowing for the review, correction, or overriding of the model's outputs.\n",
    "\n",
    "The top 3 usecases to integrate this workflow in your agentic workflow include:\n",
    "1. Approve"
   ]
  },
  {
   "cell_type": "markdown",
   "id": "1c486f38-b1d3-440d-a9a6-f7bd0b0c65f9",
   "metadata": {},
   "source": [
    "### Approve or Reject State"
   ]
  },
  {
   "cell_type": "code",
   "execution_count": 62,
   "id": "a1f215d9-4900-4091-b61d-d75648e5ce31",
   "metadata": {},
   "outputs": [],
   "source": [
    "from typing import TypedDict, Annotated, Sequence, Literal\n",
    "import operator\n",
    "from langchain_core.messages import BaseMessage\n",
    "\n",
    "class AgentState(TypedDict):\n",
    "    messages: Annotated[Sequence[BaseMessage], operator.add]\n"
   ]
  },
  {
   "cell_type": "code",
   "execution_count": 63,
   "id": "b75e85d2-90d1-4740-8d9d-9537acad4637",
   "metadata": {},
   "outputs": [],
   "source": [
    "system_prompt = \"\"\"\n",
    "You are a helpful research agent. Your task is to make a quick search about a topic and write a small paragraph about the \n",
    "topic. If there is any feedback from the user you must also take it into consideration.\n",
    "\"\"\""
   ]
  },
  {
   "cell_type": "code",
   "execution_count": 64,
   "id": "042956c0-d5b1-4260-b158-839f4db4c593",
   "metadata": {},
   "outputs": [],
   "source": [
    "from langgraph.checkpoint.memory import MemorySaver\n",
    "from langgraph.types import interrupt, Command\n",
    "\n",
    "def should_continue(state):\n",
    "    messages = state[\"messages\"]\n",
    "    last_message = messages[-1]\n",
    "    if last_message.tool_calls:\n",
    "        return \"continue\"\n",
    "    return \"review\"\n",
    "\n",
    "def call_model(state):\n",
    "    messages = [{\"role\": \"system\", \"content\": system_prompt}] + state[\"messages\"]\n",
    "    response = model.invoke(messages)\n",
    "    return {\"messages\": [response]}\n",
    "\n",
    "def interrupt_human_review(state)-> Command[Literal['rejected', \"approved\"]]:\n",
    "\n",
    "    messages = state[\"messages\"]\n",
    "    last_message = messages[-1]\n",
    "    human_review = interrupt(\n",
    "        {\n",
    "            \"question\": \"Is this good?\",\n",
    "            \"draft\": last_message\n",
    "        }\n",
    "    )\n",
    "    \n",
    "    if human_review[\"feedback\"]:\n",
    "        return Command(goto='rejected')\n",
    "    else:\n",
    "        return Command(goto='approved')\n",
    "\n",
    "def approve(state):\n",
    "    return {**state, \"messages\": [{\"role\": \"human\", \"content\": \"approved\"}]}\n",
    "\n",
    "def reject(state):\n",
    "    return {**state,  \"messages\": [{\"role\": \"human\", \"content\": \"rejected\"}]}"
   ]
  },
  {
   "cell_type": "code",
   "execution_count": 65,
   "id": "8920e657-6a25-43f8-a3cc-69f17ecd8025",
   "metadata": {
    "scrolled": true
   },
   "outputs": [
    {
     "data": {
      "image/png": "[encoded data removed]",
      "text/plain": [
       "<langgraph.graph.state.CompiledStateGraph object at 0x122d0dd10>"
      ]
     },
     "execution_count": 65,
     "metadata": {},
     "output_type": "execute_result"
    }
   ],
   "source": [
    "memory = MemorySaver()\n",
    "workflow = StateGraph(AgentState)\n",
    "\n",
    "workflow.add_node(\"agent\", call_model)\n",
    "workflow.add_node(\"tools\", tool_node)\n",
    "workflow.add_node(\"review\", interrupt_human_review)\n",
    "workflow.add_node(\"approved\", approve)\n",
    "workflow.add_node(\"rejected\", reject)\n",
    "\n",
    "workflow.set_entry_point(\"agent\")\n",
    "\n",
    "workflow.add_conditional_edges(\n",
    "    \"agent\",\n",
    "    should_continue,\n",
    "    {\n",
    "        \"continue\":\"tools\",\n",
    "        \"review\": \"review\"\n",
    "    }\n",
    ")\n",
    "\n",
    "workflow.add_edge(\"tools\", \"agent\")\n",
    "workflow.add_edge(\"approved\", END)\n",
    "workflow.add_edge(\"rejected\", END)\n",
    "\n",
    "\n",
    "\n",
    "app = workflow.compile(checkpointer=memory)\n",
    "app"
   ]
  },
  {
   "cell_type": "code",
   "execution_count": 66,
   "id": "c597d6bd-9b71-460f-b20e-c5f06071227c",
   "metadata": {},
   "outputs": [
    {
     "name": "stdout",
     "output_type": "stream",
     "text": [
      "Langchain is a framework for developing applications powered by large language models (LLMs). It consists of chains, agents, and retrieval strategies that make up an application's cognitive architecture. LangSmith is a developer platform within Langchain that allows debugging, testing, evaluating, and monitoring chains built on any LLM framework. On the other hand, LangGraph is a library for building stateful, multi-actor applications with LLMs. It is used to create agent and multi-agent workflows, enabling the creation of tool-calling agents and defining workflows within the graph structure. LangGraph integrates smoothly with LangChain but can also be used independently.\n"
     ]
    }
   ],
   "source": [
    "from langchain_core.messages import HumanMessage\n",
    "\n",
    "thread_config = {\"configurable\": {\"thread_id\": \"1\"}}\n",
    "\n",
    "inputs = {\"messages\": [HumanMessage(content=\"What is the diifference between langchain and langgraph?\")]}\n",
    "result = app.invoke(inputs, thread_config)\n",
    "print(result['messages'][-1].content)\n"
   ]
  },
  {
   "cell_type": "code",
   "execution_count": 26,
   "id": "24f0706a-08eb-4d7c-a9ac-2835c587a45b",
   "metadata": {},
   "outputs": [
    {
     "name": "stdin",
     "output_type": "stream",
     "text": [
      "Is there any feedback? \n"
     ]
    },
    {
     "data": {
      "text/plain": [
       "'approved'"
      ]
     },
     "execution_count": 26,
     "metadata": {},
     "output_type": "execute_result"
    }
   ],
   "source": [
    "feedback = input(\"Is there any feedback?\")\n",
    "result = app.invoke(\n",
    "        Command(resume={\"feedback\": feedback}),\n",
    "    config=thread_config\n",
    "    )\n",
    "print(result['messages'][-1][\"content\"])"
   ]
  },
  {
   "cell_type": "markdown",
   "id": "a20d9fad-2c9b-4d3a-ba9a-af1665d27bcc",
   "metadata": {},
   "source": [
    "### Review and Edit State\n"
   ]
  },
  {
   "cell_type": "code",
   "execution_count": 87,
   "id": "7d42494b-ec42-4cff-b6b7-68fface99a78",
   "metadata": {},
   "outputs": [],
   "source": [
    "from typing import TypedDict, Annotated, Sequence, Literal\n",
    "import operator\n",
    "from langchain_core.messages import BaseMessage\n",
    "\n",
    "class AgentState(TypedDict):\n",
    "    messages: Annotated[Sequence[BaseMessage], operator.add]\n",
    "    \n",
    "system_prompt = \"\"\"\n",
    "You are a helpful research agent. Your task is to make a quick search about a topic and write a small paragraph about the \n",
    "topic. If there is any feedback from the user you must also take it into consideration.\n",
    "\"\"\""
   ]
  },
  {
   "cell_type": "code",
   "execution_count": 111,
   "id": "741417c7-44a2-4dc1-9e20-134614cf1496",
   "metadata": {},
   "outputs": [],
   "source": [
    "from langgraph.checkpoint.memory import MemorySaver\n",
    "from langgraph.types import interrupt, Command\n",
    "\n",
    "def should_continue(state):\n",
    "    messages = state[\"messages\"]\n",
    "    last_message = messages[-1]\n",
    "    if last_message.tool_calls:\n",
    "        return \"continue\"\n",
    "    return \"review\"\n",
    "\n",
    "def call_model(state):\n",
    "    messages = [{\"role\": \"system\", \"content\": system_prompt}] + state[\"messages\"]\n",
    "    response = model.invoke(messages)\n",
    "    return {\"messages\": [response]}\n",
    "\n",
    "def interrupt_human_review(state):\n",
    "    messages = state[\"messages\"]\n",
    "    last_message = messages[-1]\n",
    "    human_review = interrupt(\n",
    "        {\n",
    "            \"question\": \"Is this good?\",\n",
    "            \"draft\": last_message.content\n",
    "        }\n",
    "    )\n",
    "    if human_review[\"edited_text\"]:\n",
    "        return {\"messages\": [HumanMessage(content=human_review[\"edited_text\"])]}\n",
    "    else:\n",
    "        return {}\n",
    "        \n"
   ]
  },
  {
   "cell_type": "code",
   "execution_count": 112,
   "id": "f89b5490-1356-4c4a-acbd-fd132e7abb76",
   "metadata": {
    "scrolled": true
   },
   "outputs": [
    {
     "data": {
      "image/png": "[encoded data removed]",
      "text/plain": [
       "<langgraph.graph.state.CompiledStateGraph object at 0x124d31350>"
      ]
     },
     "execution_count": 112,
     "metadata": {},
     "output_type": "execute_result"
    }
   ],
   "source": [
    "memory = MemorySaver()\n",
    "workflow = StateGraph(AgentState)\n",
    "\n",
    "workflow.add_node(\"agent\", call_model)\n",
    "workflow.add_node(\"tools\", tool_node)\n",
    "workflow.add_node(\"review\", interrupt_human_review)\n",
    "\n",
    "workflow.set_entry_point(\"agent\")\n",
    "\n",
    "workflow.add_conditional_edges(\n",
    "    \"agent\",\n",
    "    should_continue,\n",
    "    {\n",
    "        \"continue\":\"tools\",\n",
    "        \"review\": \"review\"\n",
    "    }\n",
    ")\n",
    "\n",
    "workflow.add_edge(\"tools\", \"agent\")\n",
    "workflow.add_edge(\"review\", END)\n",
    "\n",
    "app = workflow.compile(checkpointer=memory)\n",
    "app"
   ]
  },
  {
   "cell_type": "code",
   "execution_count": 113,
   "id": "4af859d1-02d6-4fd6-888a-10fcf2491174",
   "metadata": {},
   "outputs": [
    {
     "name": "stdout",
     "output_type": "stream",
     "text": [
      "LangChain is a framework for developing applications powered by large language models (LLMs). It consists of chains, agents, and retrieval strategies that make up an application's cognitive architecture. LangSmith is a developer platform within LangChain that allows debugging, testing, evaluating, and monitoring chains built on any LLM framework. On the other hand, LangGraph is a library for building stateful, multi-actor applications with LLMs. It is used to create agent and multi-agent workflows, enabling the creation of tool-calling agents and defining the flow of actions within the application. LangGraph integrates smoothly with LangChain but can also be used independently.\n"
     ]
    }
   ],
   "source": [
    "from langchain_core.messages import HumanMessage\n",
    "\n",
    "thread_config = {\"configurable\": {\"thread_id\": \"1\"}}\n",
    "\n",
    "inputs = {\"messages\": [HumanMessage(content=\"What is the difference between langchain and langgraph\")], \"retries\": 0}\n",
    "result = app.invoke(inputs, thread_config)\n",
    "print(result['messages'][-1].content)\n"
   ]
  },
  {
   "cell_type": "code",
   "execution_count": 114,
   "id": "8a1a5cff-463f-4933-8e96-be72935bd567",
   "metadata": {},
   "outputs": [],
   "source": [
    "state = app.get_state(thread_config)"
   ]
  },
  {
   "cell_type": "code",
   "execution_count": 132,
   "id": "4b3b535b-b703-475b-8400-ab4b8bb6a59d",
   "metadata": {},
   "outputs": [
    {
     "name": "stdout",
     "output_type": "stream",
     "text": [
      "{'question': 'Is this good?', 'draft': \"LangChain is a framework for developing applications powered by large language models (LLMs). It consists of chains, agents, and retrieval strategies that make up an application's cognitive architecture. LangSmith is a developer platform within LangChain that allows debugging, testing, evaluating, and monitoring chains built on any LLM framework. On the other hand, LangGraph is a library for building stateful, multi-actor applications with LLMs. It is used to create agent and multi-agent workflows, enabling the creation of tool-calling agents and defining the flow of actions within the application. LangGraph integrates smoothly with LangChain but can also be used independently.\"}\n"
     ]
    },
    {
     "name": "stdin",
     "output_type": "stream",
     "text": [
      "are there any edits? LangChain is a framework for developing applications powered by large language models (LLMs). It consists of chains, agents, and retrieval strategies that make up an application's cognitive architecture. LangSmith is a developer platform within LangChain that allows debugging, testing, evaluating, and monitoring chains built on any LLM framework. On the other hand, LangGraph is a library for building stateful, multi-actor applications with LLMs. It is used to create agent and multi-agent workflows, enabling the creation of tool-calling agents and defining the flow of actions within the application. LangGraph integrates smoothly with LangChain but can also be used independently. Langchain is nice to use\n"
     ]
    }
   ],
   "source": [
    "if state.tasks[0].interrupts:\n",
    "    print(state.tasks[0].interrupts[0].value)\n",
    "\n",
    "feedback = input(\"are there any edits?\")\n",
    "result = app.invoke(\n",
    "        Command(resume={\"edited_text\": feedback}),\n",
    "    config=thread_config\n",
    "    )"
   ]
  },
  {
   "cell_type": "code",
   "execution_count": 133,
   "id": "b2980ce6-a13b-4585-8200-717e8e941dbf",
   "metadata": {},
   "outputs": [
    {
     "name": "stdout",
     "output_type": "stream",
     "text": [
      "LangChain is a framework for developing applications powered by large language models (LLMs). It consists of chains, agents, and retrieval strategies that make up an application's cognitive architecture. LangSmith is a developer platform within LangChain that allows debugging, testing, evaluating, and monitoring chains built on any LLM framework. On the other hand, LangGraph is a library for building stateful, multi-actor applications with LLMs. It is used to create agent and multi-agent workflows, enabling the creation of tool-calling agents and defining the flow of actions within the application. LangGraph integrates smoothly with LangChain but can also be used independently. Langchain is nice to use\n"
     ]
    }
   ],
   "source": [
    "print(result['messages'][-1].content)\n"
   ]
  },
  {
   "cell_type": "markdown",
   "id": "1e58a99c-1c1d-4786-8814-41b039a77335",
   "metadata": {},
   "source": [
    "### Multi Turn Conversation"
   ]
  },
  {
   "cell_type": "code",
   "execution_count": 84,
   "id": "abcb7370-9512-4eae-9a07-73fe57a9ed07",
   "metadata": {},
   "outputs": [],
   "source": [
    "from typing import TypedDict, Annotated, Sequence, Literal\n",
    "import operator\n",
    "from langchain_core.messages import BaseMessage\n",
    "\n",
    "class AgentState(TypedDict):\n",
    "    messages: Annotated[Sequence[BaseMessage], operator.add]\n",
    "    retries: int = 0"
   ]
  },
  {
   "cell_type": "code",
   "execution_count": 28,
   "id": "61356a37-2152-48f9-93a7-bae2789a0003",
   "metadata": {},
   "outputs": [],
   "source": [
    "system_prompt = \"\"\"\n",
    "You are a helpful research agent. Your task is to make a quick search about a topic and write a small paragraph about the \n",
    "topic. If there is any feedback from the user you must also take it into consideration.\n",
    "\"\"\""
   ]
  },
  {
   "cell_type": "code",
   "execution_count": 29,
   "id": "6d22e500-06dd-4603-acb5-ddb12ea24f09",
   "metadata": {},
   "outputs": [],
   "source": [
    "from langgraph.checkpoint.memory import MemorySaver\n",
    "from langgraph.types import interrupt, Command\n",
    "\n",
    "def should_continue(state):\n",
    "    messages = state[\"messages\"]\n",
    "    last_message = messages[-1]\n",
    "    if last_message.tool_calls:\n",
    "        return \"continue\"\n",
    "    return \"review\"\n",
    "\n",
    "def call_model(state):\n",
    "    messages = [{\"role\": \"system\", \"content\": system_prompt}] + state[\"messages\"]\n",
    "    response = model.invoke(messages)\n",
    "    return {\"messages\": [response]}\n",
    "\n",
    "def interrupt_human_review(state)-> Command[Literal[END, \"agent\"]]:\n",
    "    if state[\"retries\"] > 3:\n",
    "        return Command(goto=END)\n",
    "        \n",
    "    messages = state[\"messages\"]\n",
    "    last_message = messages[-1]\n",
    "    human_review = interrupt(\n",
    "        {\n",
    "            \"question\": \"Is this good?\",\n",
    "            \"draft\": last_message\n",
    "        }\n",
    "    )\n",
    "    if human_review[\"feedback\"]:\n",
    "        goto = \"agent\"\n",
    "    else:\n",
    "        return Command(goto=END)\n",
    "        \n",
    "    return Command(goto=goto, update={\"retries\": state.get(\"retries\", 0)+1, \"messages\": [HumanMessage(content=human_review[\"feedback\"], name=\"writer\")]\n",
    "})\n"
   ]
  },
  {
   "cell_type": "code",
   "execution_count": 30,
   "id": "ac35c0c4-29c5-48b1-9fb5-f859c7b98725",
   "metadata": {},
   "outputs": [
    {
     "data": {
      "image/png": "[encoded data removed]",
      "text/plain": [
       "<langgraph.graph.state.CompiledStateGraph object at 0x10cfb0fd0>"
      ]
     },
     "execution_count": 30,
     "metadata": {},
     "output_type": "execute_result"
    }
   ],
   "source": [
    "memory = MemorySaver()\n",
    "workflow = StateGraph(AgentState)\n",
    "\n",
    "workflow.add_node(\"agent\", call_model)\n",
    "workflow.add_node(\"tools\", tool_node)\n",
    "workflow.add_node(\"review\", interrupt_human_review)\n",
    "\n",
    "workflow.set_entry_point(\"agent\")\n",
    "\n",
    "workflow.add_conditional_edges(\n",
    "    \"agent\",\n",
    "    should_continue,\n",
    "    {\n",
    "        \"continue\":\"tools\",\n",
    "        \"review\": \"review\"\n",
    "    }\n",
    ")\n",
    "\n",
    "workflow.add_edge(\"tools\", \"agent\")\n",
    "\n",
    "app = workflow.compile(checkpointer=memory)\n",
    "app"
   ]
  },
  {
   "cell_type": "code",
   "execution_count": 31,
   "id": "622df71b-d1d5-474d-b040-1fa366c88aeb",
   "metadata": {
    "scrolled": true
   },
   "outputs": [
    {
     "name": "stdout",
     "output_type": "stream",
     "text": [
      "LangChain is a framework for developing applications powered by large language models (LLMs). It consists of chains, agents, and retrieval strategies that make up an application's cognitive architecture. LangSmith is a developer platform within LangChain that allows debugging, testing, evaluating, and monitoring chains built on any LLM framework. On the other hand, LangGraph is a library for building stateful, multi-actor applications with LLMs. It is used to create agent and multi-agent workflows, enabling the creation of tool-calling agents and defining the flow of actions within the application. LangGraph integrates smoothly with LangChain but can also be used independently.\n"
     ]
    }
   ],
   "source": [
    "from langchain_core.messages import HumanMessage\n",
    "\n",
    "thread_config = {\"configurable\": {\"thread_id\": \"1\"}}\n",
    "\n",
    "inputs = {\"messages\": [HumanMessage(content=\"What is the difference between langchain and langgraph\")], \"retries\": 0}\n",
    "result = app.invoke(inputs, thread_config)\n",
    "print(result['messages'][-1].content)\n"
   ]
  },
  {
   "cell_type": "code",
   "execution_count": 33,
   "id": "0f150c82-0c77-40bb-957b-200e992b6612",
   "metadata": {},
   "outputs": [
    {
     "name": "stdin",
     "output_type": "stream",
     "text": [
      "Is there any feedback? Can I use it with crewai?\n"
     ]
    },
    {
     "name": "stdout",
     "output_type": "stream",
     "text": [
      "LangChain and LangGraph can be used independently or in conjunction with other tools and frameworks like CrewAI. CrewAI is a platform that provides AI-powered writing assistance, and while it may not have a direct integration with LangChain or LangGraph, you can potentially leverage the capabilities of these frameworks alongside CrewAI to enhance the functionality and performance of your writing applications. Integrating different AI tools and frameworks can often lead to more robust and comprehensive solutions, so exploring the compatibility and synergy between CrewAI and LangChain/LangGraph could be beneficial for your writing projects.\n"
     ]
    },
    {
     "name": "stdin",
     "output_type": "stream",
     "text": [
      "Is there any feedback? can you add about Autogen?\n"
     ]
    },
    {
     "name": "stdout",
     "output_type": "stream",
     "text": [
      "Autogen is a powerful AI writing tool that can be used in conjunction with frameworks like LangChain and LangGraph to enhance the writing process further. Autogen utilizes advanced natural language processing (NLP) algorithms to generate high-quality content, making it a valuable addition to writing applications. By integrating Autogen with LangChain and LangGraph, users can benefit from a comprehensive set of tools for developing context-aware reasoning applications, building stateful multi-actor workflows, and generating AI-powered content efficiently. The combination of Autogen with these frameworks can offer a holistic approach to writing tasks, enabling users to create engaging and informative content with ease.\n"
     ]
    },
    {
     "name": "stdin",
     "output_type": "stream",
     "text": [
      "Is there any feedback? So is autogen better than crewai with langchain and langgraph explain in detail.\n"
     ]
    },
    {
     "name": "stdout",
     "output_type": "stream",
     "text": [
      "Autogen and CrewAI are both powerful AI writing tools that offer unique features and capabilities. When comparing Autogen with CrewAI in conjunction with LangChain and LangGraph, several factors come into play:\n",
      "\n",
      "1. **Autogen's Strengths**:\n",
      "   - Autogen is known for its advanced natural language processing (NLP) algorithms that can generate high-quality content efficiently.\n",
      "   - It offers a wide range of writing assistance features, including content generation, language correction, and style improvement.\n",
      "   - Autogen's focus on content creation and generation makes it a valuable tool for users looking to automate the writing process and produce large volumes of text.\n",
      "\n",
      "2. **CrewAI's Strengths**:\n",
      "   - CrewAI is a platform specifically designed for AI-powered writing assistance, offering features like grammar checking, plagiarism detection, and readability analysis.\n",
      "   - It provides a user-friendly interface and a seamless writing experience, making it popular among writers and content creators.\n",
      "   - CrewAI's emphasis on writing quality and correctness can be beneficial for users who prioritize accuracy and clarity in their content.\n",
      "\n",
      "3. **Integration with LangChain and LangGraph**:\n",
      "   - Integrating Autogen with LangChain and LangGraph can enhance the capabilities of these frameworks by providing advanced content generation and writing assistance features.\n",
      "   - CrewAI's integration with LangChain and LangGraph may offer a more streamlined writing experience with a focus on grammar and style correction within the context-aware reasoning applications and multi-actor workflows.\n",
      "\n",
      "In conclusion, the choice between Autogen and CrewAI in combination with LangChain and LangGraph depends on the specific needs and preferences of the user. Autogen may be preferred for its content generation capabilities and advanced NLP algorithms, while CrewAI could be favored for its focus on writing assistance and correctness. Ultimately, both tools can complement LangChain and LangGraph effectively, offering users a comprehensive set of tools for writing and content creation tasks.\n"
     ]
    },
    {
     "name": "stdin",
     "output_type": "stream",
     "text": [
      "Is there any feedback? \n"
     ]
    },
    {
     "name": "stdout",
     "output_type": "stream",
     "text": [
      "Autogen and CrewAI are both powerful AI writing tools that offer unique features and capabilities. When comparing Autogen with CrewAI in conjunction with LangChain and LangGraph, several factors come into play:\n",
      "\n",
      "1. **Autogen's Strengths**:\n",
      "   - Autogen is known for its advanced natural language processing (NLP) algorithms that can generate high-quality content efficiently.\n",
      "   - It offers a wide range of writing assistance features, including content generation, language correction, and style improvement.\n",
      "   - Autogen's focus on content creation and generation makes it a valuable tool for users looking to automate the writing process and produce large volumes of text.\n",
      "\n",
      "2. **CrewAI's Strengths**:\n",
      "   - CrewAI is a platform specifically designed for AI-powered writing assistance, offering features like grammar checking, plagiarism detection, and readability analysis.\n",
      "   - It provides a user-friendly interface and a seamless writing experience, making it popular among writers and content creators.\n",
      "   - CrewAI's emphasis on writing quality and correctness can be beneficial for users who prioritize accuracy and clarity in their content.\n",
      "\n",
      "3. **Integration with LangChain and LangGraph**:\n",
      "   - Integrating Autogen with LangChain and LangGraph can enhance the capabilities of these frameworks by providing advanced content generation and writing assistance features.\n",
      "   - CrewAI's integration with LangChain and LangGraph may offer a more streamlined writing experience with a focus on grammar and style correction within the context-aware reasoning applications and multi-actor workflows.\n",
      "\n",
      "In conclusion, the choice between Autogen and CrewAI in combination with LangChain and LangGraph depends on the specific needs and preferences of the user. Autogen may be preferred for its content generation capabilities and advanced NLP algorithms, while CrewAI could be favored for its focus on writing assistance and correctness. Ultimately, both tools can complement LangChain and LangGraph effectively, offering users a comprehensive set of tools for writing and content creation tasks.\n",
      "Final Output: Autogen and CrewAI are both powerful AI writing tools that offer unique features and capabilities. When comparing Autogen with CrewAI in conjunction with LangChain and LangGraph, several factors come into play:\n",
      "\n",
      "1. **Autogen's Strengths**:\n",
      "   - Autogen is known for its advanced natural language processing (NLP) algorithms that can generate high-quality content efficiently.\n",
      "   - It offers a wide range of writing assistance features, including content generation, language correction, and style improvement.\n",
      "   - Autogen's focus on content creation and generation makes it a valuable tool for users looking to automate the writing process and produce large volumes of text.\n",
      "\n",
      "2. **CrewAI's Strengths**:\n",
      "   - CrewAI is a platform specifically designed for AI-powered writing assistance, offering features like grammar checking, plagiarism detection, and readability analysis.\n",
      "   - It provides a user-friendly interface and a seamless writing experience, making it popular among writers and content creators.\n",
      "   - CrewAI's emphasis on writing quality and correctness can be beneficial for users who prioritize accuracy and clarity in their content.\n",
      "\n",
      "3. **Integration with LangChain and LangGraph**:\n",
      "   - Integrating Autogen with LangChain and LangGraph can enhance the capabilities of these frameworks by providing advanced content generation and writing assistance features.\n",
      "   - CrewAI's integration with LangChain and LangGraph may offer a more streamlined writing experience with a focus on grammar and style correction within the context-aware reasoning applications and multi-actor workflows.\n",
      "\n",
      "In conclusion, the choice between Autogen and CrewAI in combination with LangChain and LangGraph depends on the specific needs and preferences of the user. Autogen may be preferred for its content generation capabilities and advanced NLP algorithms, while CrewAI could be favored for its focus on writing assistance and correctness. Ultimately, both tools can complement LangChain and LangGraph effectively, offering users a comprehensive set of tools for writing and content creation tasks.\n"
     ]
    }
   ],
   "source": [
    "thread_config = {\"configurable\": {\"thread_id\": \"1\"}}\n",
    "\n",
    "while True:\n",
    "    feedback = input(\"Is there any feedback?\")\n",
    "    result = app.invoke(\n",
    "            Command(resume={\"feedback\": feedback}),\n",
    "        config=thread_config\n",
    "        )\n",
    "    print(\"\\n {}\".format(result['messages'][-1].content))\n",
    "    if not feedback:\n",
    "        break\n",
    "\n",
    "from IPython.display import display, Markdown, Latex\n",
    "display(Markdown(result['messages'][-1].content))\n",
    "        "
   ]
  },
  {
   "cell_type": "code",
   "execution_count": 214,
   "id": "ec7f6551-3ad1-4f7f-a1af-0c19bae540e2",
   "metadata": {},
   "outputs": [
    {
     "data": {
      "text/plain": [
       "'Canada has announced a $155 billion tariff package in response to unjustified and unreasonable tariffs imposed by the United States on Canadian goods. The Government of Canada is moving forward with 25% tariffs on $155 billion worth of goods as a retaliatory measure. Additionally, there are tariff classifications for goods imported into Canada, showing preferential tariffs for products from countries with which Canada has free trade agreements. The list of products from the United States subject to 25% tariffs effective February 4, 2025, is available for reference.'"
      ]
     },
     "execution_count": 214,
     "metadata": {},
     "output_type": "execute_result"
    }
   ],
   "source": []
  },
  {
   "cell_type": "markdown",
   "id": "ffd0361d-eff5-4e57-8b80-b8235394f514",
   "metadata": {},
   "source": [
    "### Tool Execution"
   ]
  },
  {
   "cell_type": "code",
   "execution_count": 36,
   "id": "3d92b766-a27d-4879-895d-8af8034454d2",
   "metadata": {},
   "outputs": [],
   "source": [
    "from typing import TypedDict, Annotated, Sequence, Literal\n",
    "import operator\n",
    "from langchain_core.messages import BaseMessage\n",
    "\n",
    "class AgentState(TypedDict):\n",
    "    messages: Annotated[Sequence[BaseMessage], operator.add]\n",
    "\n"
   ]
  },
  {
   "cell_type": "code",
   "execution_count": null,
   "id": "1e751f3d-4de7-4d9d-8b06-b6164120d61d",
   "metadata": {},
   "outputs": [],
   "source": []
  },
  {
   "cell_type": "code",
   "execution_count": 182,
   "id": "d2e2823d-1af5-4b95-9197-ee764846403a",
   "metadata": {},
   "outputs": [],
   "source": [
    "from langgraph.checkpoint.memory import MemorySaver\n",
    "from langgraph.types import interrupt, Command\n",
    "\n",
    "def should_continue(state):\n",
    "    messages = state[\"messages\"]\n",
    "    last_message = messages[-1]\n",
    "    if last_message.tool_calls:\n",
    "        return \"continue\"\n",
    "    return \"end\"\n",
    "\n",
    "def call_model(state):\n",
    "    messages = state['messages']\n",
    "    response = model.invoke(messages)\n",
    "    return {\"messages\": [response]}\n",
    "\n",
    "def interrupt_human_review(state)-> Command[Literal[END, \"tools\"]]:\n",
    "    messages = state[\"messages\"]\n",
    "    last_message = messages[-1]\n",
    "    human_review = interrupt(\n",
    "        {\n",
    "            \"question\": \"Is this correct\",\n",
    "            \"tool_call\": last_message.tool_calls\n",
    "        }\n",
    "    )\n",
    "    \n",
    "    if human_review[\"continue\"]==\"yes\":\n",
    "        return Command(goto=\"tools\")\n",
    "    else:\n",
    "        return Command(goto=END)\n",
    "    \n",
    "\n",
    "    \n"
   ]
  },
  {
   "cell_type": "code",
   "execution_count": 183,
   "id": "3062a897-6f22-4547-b5f0-8cdc912b8fc6",
   "metadata": {},
   "outputs": [],
   "source": [
    "\n",
    "memory = MemorySaver()\n",
    "workflow = StateGraph(AgentState)\n",
    "\n",
    "workflow.add_node(\"agent\", call_model)\n",
    "workflow.add_node(\"tools\", tool_node)\n",
    "workflow.add_node(\"review\", interrupt_human_review)\n",
    "\n",
    "workflow.set_entry_point(\"agent\")\n",
    "\n",
    "workflow.add_conditional_edges(\n",
    "    \"agent\",\n",
    "    should_continue,\n",
    "    {\n",
    "        \"continue\":\"review\",\n",
    "        \"end\": END\n",
    "    }\n",
    ")\n",
    "\n",
    "workflow.add_edge(\"tools\", \"agent\")\n",
    "\n",
    "app = workflow.compile(checkpointer=memory)"
   ]
  },
  {
   "cell_type": "code",
   "execution_count": 184,
   "id": "cd72b229-c1b4-4f9c-b56f-8e706ab3d57c",
   "metadata": {},
   "outputs": [
    {
     "data": {
      "image/png": "[encoded data removed]",
      "text/plain": [
       "<langgraph.graph.state.CompiledStateGraph object at 0x125c15890>"
      ]
     },
     "execution_count": 184,
     "metadata": {},
     "output_type": "execute_result"
    }
   ],
   "source": [
    "app"
   ]
  },
  {
   "cell_type": "code",
   "execution_count": 54,
   "id": "1a054c88-5148-4e7e-9ea5-c032170f21b5",
   "metadata": {
    "scrolled": true
   },
   "outputs": [
    {
     "name": "stdout",
     "output_type": "stream",
     "text": [
      "[{'name': 'tavily_search_results_json', 'args': {'query': 'current Prime Minister of Canada'}, 'id': 'call_rk4WgClx32HBYyR8rQvGVE61', 'type': 'tool_call'}]\n"
     ]
    }
   ],
   "source": [
    "from langchain_core.messages import HumanMessage\n",
    "\n",
    "thread_config = {\"configurable\": {\"thread_id\": \"1\"}}\n",
    "\n",
    "inputs = {\"messages\": [HumanMessage(content=\"who is the current. PM of canada?\")]}\n",
    "result = app.invoke(inputs, thread_config)\n",
    "print(result['messages'][-1].tool_calls)"
   ]
  },
  {
   "cell_type": "code",
   "execution_count": 55,
   "id": "de54b064-897a-4c7a-ab81-eb8cd16eae01",
   "metadata": {
    "scrolled": true
   },
   "outputs": [
    {
     "name": "stdin",
     "output_type": "stream",
     "text": [
      "Should I continue with the tool call? yes\n"
     ]
    },
    {
     "data": {
      "text/markdown": [
       "The current Prime Minister of Canada is Justin Trudeau. He is Canada's 23rd Prime Minister and was re-elected on September 20, 2021, earning a third mandate to govern from Canadians. You can find more information about him on the [official website](https://www.pm.gc.ca/en/about)."
      ],
      "text/plain": [
       "<IPython.core.display.Markdown object>"
      ]
     },
     "metadata": {},
     "output_type": "display_data"
    }
   ],
   "source": [
    "continue_result = input(\"Should I continue with the tool call?\")\n",
    "result = app.invoke(\n",
    "        Command(resume={\"continue\": continue_result}),\n",
    "    config=thread_config\n",
    ")\n",
    "from IPython.display import display, Markdown, Latex\n",
    "display(Markdown(result['messages'][-1].content))"
   ]
  },
  {
   "cell_type": "markdown",
   "id": "9c653338-729f-4e51-a3f0-0970d10959a6",
   "metadata": {},
   "source": [
    "### Validating Human Input "
   ]
  },
  {
   "cell_type": "code",
   "execution_count": 176,
   "id": "18097927-2db1-4ec7-ae37-91ea8ae5b7c1",
   "metadata": {},
   "outputs": [],
   "source": [
    "from typing import TypedDict, Annotated, Sequence, Literal\n",
    "import operator\n",
    "from langchain_core.messages import BaseMessage\n",
    "\n",
    "class AgentState(TypedDict):\n",
    "    messages: Annotated[Sequence[BaseMessage], operator.add]\n"
   ]
  },
  {
   "cell_type": "code",
   "execution_count": 185,
   "id": "05825057-21d0-4783-8eda-e10f6055dee7",
   "metadata": {},
   "outputs": [],
   "source": [
    "system_prompt = \"\"\"\n",
    "You are a helpful research agent. Your task is to make retrieve population. If user specifies an year use that otherwise use 2025.\n",
    "\"\"\""
   ]
  },
  {
   "cell_type": "code",
   "execution_count": 230,
   "id": "5f022c3a-3abd-468e-b995-ff95c8aa218a",
   "metadata": {},
   "outputs": [],
   "source": [
    "from langgraph.checkpoint.memory import MemorySaver\n",
    "from langgraph.types import interrupt, Command\n",
    "\n",
    "def should_continue(state):\n",
    "    messages = state[\"messages\"]\n",
    "    last_message = messages[-1]\n",
    "    if last_message.tool_calls:\n",
    "        return \"continue\"\n",
    "    return \"review\"\n",
    "\n",
    "def call_model(state):\n",
    "    messages = [{\"role\": \"system\", \"content\": system_prompt}] + state[\"messages\"]\n",
    "    response = model.invoke(messages)\n",
    "    return {\"messages\": [response]}\n",
    "    \n",
    "def interrupt_human_review(state)-> Command[Literal[END, \"agent\"]]:\n",
    "    question = \"Please specify any year for pupulation otherwise leave it empty\"\n",
    "    while True:\n",
    "        answer = interrupt(question)\n",
    "        if answer:\n",
    "            \n",
    "            # Validate answer, if the answer isn't valid ask for input again.\n",
    "            if not isinstance(answer, int) or answer < 0:\n",
    "                print(\"I am here\")\n",
    "                question = f\"'{answer} is not a valid year. Please specify year?\"\n",
    "                answer = None\n",
    "                continue\n",
    "            else:\n",
    "                return Command(goto='agent', update={\n",
    "                \"messages\": [HumanMessage(content=\"Try again for the year {}\".format(answer))]\n",
    "                })\n",
    "        else:\n",
    "            return Command(goto=END)\n",
    "        \n",
    "        "
   ]
  },
  {
   "cell_type": "code",
   "execution_count": 231,
   "id": "dea0d555-1614-4e90-811d-bcfb5c971673",
   "metadata": {},
   "outputs": [
    {
     "data": {
      "image/png": "[encoded data removed]",
      "text/plain": [
       "<langgraph.graph.state.CompiledStateGraph object at 0x12654d110>"
      ]
     },
     "execution_count": 231,
     "metadata": {},
     "output_type": "execute_result"
    }
   ],
   "source": [
    "memory = MemorySaver()\n",
    "workflow = StateGraph(AgentState)\n",
    "\n",
    "workflow.add_node(\"agent\", call_model)\n",
    "workflow.add_node(\"tools\", tool_node)\n",
    "workflow.add_node(\"review\", interrupt_human_review)\n",
    "\n",
    "workflow.set_entry_point(\"agent\")\n",
    "\n",
    "workflow.add_conditional_edges(\n",
    "    \"agent\",\n",
    "    should_continue,\n",
    "    {\n",
    "        \"continue\":\"tools\",\n",
    "        \"review\": \"review\"\n",
    "    }\n",
    ")\n",
    "\n",
    "workflow.add_edge(\"tools\", \"agent\")\n",
    "\n",
    "app = workflow.compile(checkpointer=memory)\n",
    "app"
   ]
  },
  {
   "cell_type": "code",
   "execution_count": 232,
   "id": "ae8c3a0c-6f14-4b35-9756-38803d7628c9",
   "metadata": {},
   "outputs": [],
   "source": [
    "from langchain_core.messages import HumanMessage\n",
    "\n",
    "thread_config = {\"configurable\": {\"thread_id\": \"1\"}}\n",
    "\n",
    "inputs = {\"messages\": [HumanMessage(content=\"For Canada\")]}\n",
    "result = app.invoke(inputs, thread_config)\n"
   ]
  },
  {
   "cell_type": "code",
   "execution_count": 233,
   "id": "e61dbfb9-5ee9-462b-b05b-859913f7a441",
   "metadata": {},
   "outputs": [
    {
     "name": "stdout",
     "output_type": "stream",
     "text": [
      "content='The current population of Canada in 2025 is approximately 39,431,447, with a 0.83% increase from 2024. Additionally, the current population of Canada is approximately 39,978,188 as of February 11, 2025.' additional_kwargs={} response_metadata={'finish_reason': 'stop', 'model_name': 'gpt-3.5-turbo-0125'} id='run-3b705e47-18ef-46de-b4c2-1615a74ba7e0-0'\n"
     ]
    }
   ],
   "source": [
    "print(result['messages'][-1])"
   ]
  },
  {
   "cell_type": "code",
   "execution_count": 234,
   "id": "068c19f8-135d-4939-bbbd-340bf50de460",
   "metadata": {},
   "outputs": [],
   "source": [
    "state = app.get_state(thread_config)"
   ]
  },
  {
   "cell_type": "code",
   "execution_count": 235,
   "id": "fd67a2e1-7d5d-404a-b6d2-299ad6988db0",
   "metadata": {},
   "outputs": [
    {
     "name": "stdout",
     "output_type": "stream",
     "text": [
      "Please specify any year for pupulation otherwise leave it empty\n",
      "I am here\n"
     ]
    }
   ],
   "source": [
    "print(state.tasks[0].interrupts[0].value)\n",
    "result = app.invoke(\n",
    "        Command(resume=\"twenty\"),\n",
    "    config=thread_config\n",
    "    )"
   ]
  },
  {
   "cell_type": "code",
   "execution_count": 237,
   "id": "a403a651-2a28-40bb-8a2e-99ae6d7ccb30",
   "metadata": {},
   "outputs": [
    {
     "data": {
      "text/plain": [
       "\"'twenty is not a valid year. Please specify year?\""
      ]
     },
     "execution_count": 237,
     "metadata": {},
     "output_type": "execute_result"
    }
   ],
   "source": [
    "state = app.get_state(thread_config)\n",
    "state.tasks[0].interrupts[0].value"
   ]
  },
  {
   "cell_type": "code",
   "execution_count": 238,
   "id": "c6ce2328-c652-4b3e-b4e2-bdbb6844d30c",
   "metadata": {},
   "outputs": [
    {
     "name": "stdout",
     "output_type": "stream",
     "text": [
      "'twenty is not a valid year. Please specify year?\n",
      "I am here\n"
     ]
    }
   ],
   "source": [
    "result = app.invoke(\n",
    "        Command(resume=2021),\n",
    "    config=thread_config\n",
    "    )"
   ]
  },
  {
   "cell_type": "code",
   "execution_count": 239,
   "id": "f1760bb5-f1fb-4333-a93a-7d0ec2f8ebd3",
   "metadata": {},
   "outputs": [
    {
     "name": "stdout",
     "output_type": "stream",
     "text": [
      "content='The population of Canada in 2021 was 36,991,981. As of February 11, 2025, the current population of Canada is approximately 39,978,188.' additional_kwargs={} response_metadata={'finish_reason': 'stop', 'model_name': 'gpt-3.5-turbo-0125'} id='run-3e2a7013-4c2b-4604-a940-577c6d737ade-0'\n"
     ]
    }
   ],
   "source": [
    "print(result['messages'][-1])"
   ]
  },
  {
   "cell_type": "code",
   "execution_count": null,
   "id": "7028e203-d2d5-4414-bf16-32ccdbe637a2",
   "metadata": {},
   "outputs": [],
   "source": []
  }
 ],
 "metadata": {
  "kernelspec": {
   "display_name": "Python 3 (ipykernel)",
   "language": "python",
   "name": "python3"
  },
  "language_info": {
   "codemirror_mode": {
    "name": "ipython",
    "version": 3
   },
   "file_extension": ".py",
   "mimetype": "text/x-python",
   "name": "python",
   "nbconvert_exporter": "python",
   "pygments_lexer": "ipython3",
   "version": "3.11.7"
  }
 },
 "nbformat": 4,
 "nbformat_minor": 5
}
